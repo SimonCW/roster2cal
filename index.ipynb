{
 "cells": [
  {
   "cell_type": "code",
   "execution_count": null,
   "metadata": {},
   "outputs": [],
   "source": [
    "#hide\n",
    "from roster2ical.roster import *"
   ]
  },
  {
   "cell_type": "markdown",
   "metadata": {},
   "source": [
    "# Roster2cal\n",
    "\n",
    "> Convert a roster defined in an excel to an ics file. Note: This is a personal project to save myself and my wife the time of manually adding her work shifts from an Excel/PDF roster to our shared Google Calendar. "
   ]
  },
  {
   "cell_type": "markdown",
   "metadata": {},
   "source": [
    "The input is a roster defined in an excel file that looks similar to the screenshot below. The output is an ics file that can be imported to most calendars. \n",
    "![](docs/images/20211211_screenshot_example_roster.jpg)(see [full example here](data/202201_example_roster.xlsx))\n",
    "\n",
    "\n",
    "As a secondary purpose, I needed a small project to try out nbdev for development :)."
   ]
  },
  {
   "cell_type": "markdown",
   "metadata": {},
   "source": [
    "## Install"
   ]
  },
  {
   "cell_type": "markdown",
   "metadata": {},
   "source": [
    "`pip install roster2ical`"
   ]
  },
  {
   "cell_type": "markdown",
   "metadata": {},
   "source": [
    "## How to use"
   ]
  },
  {
   "cell_type": "code",
   "execution_count": null,
   "metadata": {},
   "outputs": [],
   "source": [
    "from pathlib import Path\n",
    "from roster2ical.roster import ShiftProperties, Roster\n",
    "from datetime import timedelta\n",
    "\n",
    "_abbr2shiftproperties = {\n",
    "    \"F1\": ShiftProperties(\n",
    "        name=\"Früh1\", starting_hour=timedelta(hours=8), duration=timedelta(hours=8)\n",
    "    ),\n",
    "    \"N1\": ShiftProperties(\n",
    "        name=\"Nacht1\", starting_hour=timedelta(hours=22), duration=timedelta(hours=10)\n",
    "    ),\n",
    "}\n",
    "r = Roster.from_dict(\n",
    "    {\n",
    "        \"Mo 01\": \"F1\",\n",
    "        \"Di 02\": \"N1\",\n",
    "    },\n",
    "    mapper=_abbr2shiftproperties,\n",
    ")\n",
    "\n",
    "with (Path.cwd() / \"data\" / \"output\" / \"example.ics\").open(\"w\") as f:\n",
    "    f.write(str(r.to_ics()))"
   ]
  },
  {
   "cell_type": "markdown",
   "metadata": {},
   "source": [
    "# ToDos\n",
    "- [ ] ics converts everything to UTC, this somehow messes up the times when editing imported dates into Google Cal https://github.com/ics-py/ics-py/issues/188\n",
    "- [ ] Add new shift types, e.g. RTH\n",
    "- [ ] Add secondary shift label, e.g. HG as \"Hintergrund\"\n",
    "- [ ] For private use, write module to push directly to Google Calendar (set color, etc)"
   ]
  }
 ],
 "metadata": {
  "kernelspec": {
   "display_name": "Python 3",
   "language": "python",
   "name": "python3"
  }
 },
 "nbformat": 4,
 "nbformat_minor": 2
}
