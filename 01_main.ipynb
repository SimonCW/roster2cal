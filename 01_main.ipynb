{
 "cells": [
  {
   "cell_type": "code",
   "execution_count": null,
   "metadata": {},
   "outputs": [],
   "source": [
    "# default_exp main"
   ]
  },
  {
   "cell_type": "code",
   "execution_count": null,
   "metadata": {},
   "outputs": [],
   "source": [
    "%load_ext autoreload\n",
    "%autoreload 2"
   ]
  },
  {
   "cell_type": "markdown",
   "metadata": {},
   "source": [
    "# Data Loading\n",
    "\n",
    "> Module to load the roster table."
   ]
  },
  {
   "cell_type": "code",
   "execution_count": null,
   "metadata": {},
   "outputs": [],
   "source": [
    "# hide\n",
    "from nbdev.showdoc import *"
   ]
  },
  {
   "cell_type": "code",
   "execution_count": null,
   "metadata": {},
   "outputs": [],
   "source": [
    "from pathlib import Path\n",
    "import re\n",
    "import pandas as pd\n",
    "from typing import Any\n",
    "from datetime import timedelta\n",
    "from roster2ical.roster import Shift, ShiftProperties, Roster"
   ]
  },
  {
   "cell_type": "code",
   "execution_count": null,
   "metadata": {},
   "outputs": [],
   "source": [
    "data_path = Path.cwd() / \"data\"\n",
    "# roster_path = data_path / \"202201_example_roster.xlsx\"\n",
    "roster_path = data_path / \"private\" / \"202202_ZIB_Feb.xlsx\"\n",
    "\n",
    "day_pattern = re.compile(r\"MO|DI|MI|DO|FR|SA|SO\")\n",
    "date_pattern = re.compile(r\"\\d{2}\")\n",
    "\n",
    "\n",
    "def daycol(col):\n",
    "    return day_pattern.search(col)\n",
    "\n",
    "\n",
    "# TODO: Should use daycols for variable length months\n",
    "df = pd.read_excel(roster_path, skiprows=0, header=1, index_col=0)\n",
    "roster_df = (\n",
    "    df.dropna().rename_axis(\"Name\").loc[:, [col for col in df.columns if daycol(col)]]\n",
    ")\n",
    "roster_df"
   ]
  },
  {
   "cell_type": "code",
   "execution_count": null,
   "metadata": {},
   "outputs": [],
   "source": [
    "roster_df = roster_df.drop(columns=[\"DI 01.1\"], errors=\"ignore\")\n",
    "roster_df.iloc[:, 5:]"
   ]
  },
  {
   "cell_type": "code",
   "execution_count": null,
   "metadata": {},
   "outputs": [],
   "source": [
    "abbr2shiftproperties = {\n",
    "    \"(/)\": None,\n",
    "    \"2M\": None,\n",
    "    \"3g\": None,\n",
    "    \"RTH\": None,\n",
    "    \"NEF\": None,\n",
    "    \"NAW 24\": None,\n",
    "    \"V\": None,\n",
    "    \"F0\": ShiftProperties(\n",
    "        name=\"Früh0\", starting_hour=timedelta(hours=8), duration=timedelta(hours=10)\n",
    "    ),\n",
    "    \"F1\": ShiftProperties(\n",
    "        name=\"Früh1\", starting_hour=timedelta(hours=8), duration=timedelta(hours=8)\n",
    "    ),\n",
    "    \"F2\": ShiftProperties(\n",
    "        name=\"Früh2\", starting_hour=timedelta(hours=8), duration=timedelta(hours=12)\n",
    "    ),\n",
    "    \"FB\": ShiftProperties(\n",
    "        name=\"Fortbildung\",\n",
    "        starting_hour=timedelta(hours=8),\n",
    "        duration=timedelta(hours=8),\n",
    "    ),\n",
    "    \"N1\": ShiftProperties(\n",
    "        name=\"Nacht1\", starting_hour=timedelta(hours=22), duration=timedelta(hours=10)\n",
    "    ),\n",
    "    \"N2\": ShiftProperties(\n",
    "        name=\"Nacht2\", starting_hour=timedelta(hours=20), duration=timedelta(hours=12)\n",
    "    ),\n",
    "    \"S1\": ShiftProperties(\n",
    "        name=\"Spät1\", starting_hour=timedelta(hours=15), duration=timedelta(hours=8)\n",
    "    ),\n",
    "    \"U\": ShiftProperties(\n",
    "        name=\"Urlaub\", starting_hour=timedelta(hours=8), duration=timedelta(hours=8)\n",
    "    ),\n",
    "    \"ZA\": ShiftProperties(\n",
    "        name=\"Zeitausgleich\",\n",
    "        starting_hour=timedelta(hours=8),\n",
    "        duration=timedelta(hours=8),\n",
    "    ),\n",
    "}\n"
   ]
  },
  {
   "cell_type": "code",
   "execution_count": null,
   "metadata": {},
   "outputs": [],
   "source": [
    "name = \"\"\n",
    "r = Roster.from_dict(roster_df.loc[name].to_dict(), mapper=abbr2shiftproperties)"
   ]
  },
  {
   "cell_type": "code",
   "execution_count": null,
   "metadata": {},
   "outputs": [],
   "source": [
    "r"
   ]
  },
  {
   "cell_type": "code",
   "execution_count": null,
   "metadata": {},
   "outputs": [],
   "source": [
    "for name in roster_df.index:\n",
    "    try:\n",
    "        r = Roster.from_dict(roster_df.loc[name].to_dict(), mapper=abbr2shiftproperties)\n",
    "    except:\n",
    "        print(f\"Could not create roster for {name}\")\n",
    "        continue\n",
    "    filename = f\"{name.replace(',', '_').replace(' ', '')}.ics\"\n",
    "    with (data_path / \"output\" / filename).open(\"w\") as f:\n",
    "        f.write(str(r.to_ics()))\n"
   ]
  },
  {
   "cell_type": "code",
   "execution_count": null,
   "metadata": {},
   "outputs": [],
   "source": []
  }
 ],
 "metadata": {
  "kernelspec": {
   "display_name": "Python 3",
   "language": "python",
   "name": "python3"
  }
 },
 "nbformat": 4,
 "nbformat_minor": 2
}
