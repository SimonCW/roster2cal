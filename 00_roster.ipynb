{
 "cells": [
  {
   "cell_type": "code",
   "execution_count": null,
   "metadata": {},
   "outputs": [],
   "source": [
    "# default_exp roster"
   ]
  },
  {
   "cell_type": "code",
   "execution_count": null,
   "metadata": {},
   "outputs": [],
   "source": [
    "%load_ext autoreload\n",
    "%autoreload 2"
   ]
  },
  {
   "cell_type": "markdown",
   "metadata": {},
   "source": [
    "# Roster\n",
    "\n",
    "> Module to parse and model a roster with different shifts."
   ]
  },
  {
   "cell_type": "code",
   "execution_count": null,
   "metadata": {},
   "outputs": [],
   "source": [
    "# hide\n",
    "from nbdev.showdoc import *"
   ]
  },
  {
   "cell_type": "code",
   "execution_count": null,
   "metadata": {},
   "outputs": [],
   "source": [
    "# export\n",
    "from dataclasses import dataclass\n",
    "from datetime import datetime, timedelta\n",
    "from ics import Calendar, Event\n",
    "import re\n",
    "from typing import Any, Optional\n",
    "\n",
    "\n",
    "@dataclass\n",
    "class ShiftProperties:\n",
    "    name: str\n",
    "    starting_hour: timedelta\n",
    "    duration: timedelta\n",
    "\n",
    "\n",
    "@dataclass\n",
    "class Shift:\n",
    "    properties: ShiftProperties\n",
    "    date: datetime\n",
    "\n",
    "    def __post_init__(self):\n",
    "        self.beginning: datetime = self.date + self.properties.starting_hour\n"
   ]
  },
  {
   "cell_type": "code",
   "execution_count": null,
   "metadata": {},
   "outputs": [
    {
     "data": {
      "text/plain": [
       "Shift(properties=ShiftProperties(name='Früh0', starting_hour=datetime.timedelta(seconds=25200), duration=datetime.timedelta(seconds=28800)), date=datetime.datetime(2022, 1, 1, 7, 0))"
      ]
     },
     "execution_count": null,
     "metadata": {},
     "output_type": "execute_result"
    }
   ],
   "source": [
    "sp = ShiftProperties(\n",
    "    name=\"Früh0\", starting_hour=timedelta(hours=7), duration=timedelta(hours=8)\n",
    ")\n",
    "Shift(properties=sp, date=datetime(2022, 1, 1, 7, 0))\n"
   ]
  },
  {
   "cell_type": "code",
   "execution_count": null,
   "metadata": {},
   "outputs": [],
   "source": []
  },
  {
   "cell_type": "code",
   "execution_count": null,
   "metadata": {},
   "outputs": [],
   "source": [
    "# export\n",
    "@dataclass\n",
    "class Roster:\n",
    "    shifts: list[Shift]\n",
    "    name: str = \"Jane Doe\"\n",
    "    _year: int = 2022\n",
    "    _month: int = 1  # TODO: Read from Excel\n",
    "    _dayp = re.compile(r\"MO|DI|MI|DO|FR|SA|SO\")\n",
    "    _datep = re.compile(r\"\\d{2}\")\n",
    "\n",
    "    @classmethod\n",
    "    def from_dict(\n",
    "        cls, input: dict[str, str], mapper: Optional[dict] = None\n",
    "    ) -> \"Roster\":\n",
    "        shifts = []\n",
    "        for date_str, abbr in input.items():\n",
    "            props = mapper[abbr]\n",
    "            if props is None:\n",
    "                continue\n",
    "            date = datetime(\n",
    "                year=cls._year,\n",
    "                month=cls._month,\n",
    "                day=int(cls._datep.search(date_str).group()),\n",
    "            )\n",
    "            shift = Shift(props, date=date)\n",
    "            shifts.append(shift)\n",
    "        return cls(shifts=shifts)\n",
    "\n",
    "    def to_ics(self):\n",
    "        c = Calendar()\n",
    "        for shift in self.shifts:\n",
    "            e = Event()\n",
    "            e.name = shift.properties.name\n",
    "            e.begin = shift.beginning\n",
    "            e.duration = shift.properties.duration\n",
    "            c.events.add(e)\n",
    "        return c\n"
   ]
  },
  {
   "cell_type": "code",
   "execution_count": null,
   "metadata": {},
   "outputs": [],
   "source": []
  }
 ],
 "metadata": {
  "kernelspec": {
   "display_name": "Python 3",
   "language": "python",
   "name": "python3"
  }
 },
 "nbformat": 4,
 "nbformat_minor": 2
}
