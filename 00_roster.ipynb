{
 "cells": [
  {
   "cell_type": "code",
   "execution_count": null,
   "metadata": {},
   "outputs": [],
   "source": [
    "# default_exp roster"
   ]
  },
  {
   "cell_type": "code",
   "execution_count": null,
   "metadata": {},
   "outputs": [],
   "source": [
    "%load_ext autoreload\n",
    "%autoreload 2"
   ]
  },
  {
   "cell_type": "markdown",
   "metadata": {},
   "source": [
    "# Roster\n",
    "\n",
    "> Module to parse and model a roster with different shifts."
   ]
  },
  {
   "cell_type": "code",
   "execution_count": null,
   "metadata": {},
   "outputs": [],
   "source": [
    "# hide\n",
    "from nbdev.showdoc import *"
   ]
  },
  {
   "cell_type": "code",
   "execution_count": null,
   "metadata": {},
   "outputs": [],
   "source": [
    "# export\n",
    "from dataclasses import dataclass\n",
    "from datetime import datetime, timedelta, date, time\n",
    "from ics import Calendar, Event\n",
    "import re\n",
    "from typing import Optional\n",
    "from zoneinfo import ZoneInfo\n",
    "\n",
    "\n",
    "@dataclass\n",
    "class ShiftProperties:\n",
    "    name: str\n",
    "    starting_hour: timedelta\n",
    "    duration: timedelta\n",
    "\n",
    "\n",
    "@dataclass\n",
    "class Shift:\n",
    "    properties: ShiftProperties\n",
    "    date: datetime\n",
    "\n",
    "    def __post_init__(self):\n",
    "        self.beginning: datetime = self.date + self.properties.starting_hour\n"
   ]
  },
  {
   "cell_type": "code",
   "execution_count": null,
   "metadata": {},
   "outputs": [],
   "source": [
    "sp = ShiftProperties(\n",
    "    name=\"Früh1\", starting_hour=timedelta(hours=8), duration=timedelta(hours=8)\n",
    ")\n",
    "f1 = Shift(properties=sp, date=datetime(2022, 1, 17, tzinfo=ZoneInfo(\"Europe/Berlin\")))\n",
    "f1.beginning\n"
   ]
  },
  {
   "cell_type": "code",
   "execution_count": null,
   "metadata": {},
   "outputs": [],
   "source": [
    "# export\n",
    "@dataclass\n",
    "class Roster:\n",
    "    shifts: list[Shift]\n",
    "    _year: int = 2022\n",
    "    _month: int = 3 # TODO: Read from Excel\n",
    "    _dayp = re.compile(r\"MO|DI|MI|DO|FR|SA|SO\")\n",
    "    _datep = re.compile(r\"\\d{2}\")\n",
    "\n",
    "    @classmethod\n",
    "    def from_dict(\n",
    "        cls, input: dict[str, str], mapper: Optional[dict] = None\n",
    "    ) -> \"Roster\":\n",
    "        shifts = []\n",
    "        # TODO: This whole continue stuff is just horrible. Change it future me!\n",
    "        for date_str, abbr in input.items():\n",
    "            try:\n",
    "                props = mapper[abbr]\n",
    "                if not props:\n",
    "                    print(f\"No properties for shift abbrevation: {abbr}\")\n",
    "                    continue\n",
    "            except KeyError:\n",
    "                print(f\"Shift abbrevation not found in mapper: {abbr}\")\n",
    "                continue\n",
    "            date = datetime(\n",
    "                year=cls._year,\n",
    "                month=cls._month,\n",
    "                day=int(cls._datep.search(date_str).group()),\n",
    "                tzinfo=ZoneInfo(\"Europe/Berlin\"),\n",
    "            )\n",
    "            shift = Shift(props, date=date)\n",
    "            shifts.append(shift)\n",
    "\n",
    "\n",
    "        return cls(shifts=shifts)\n",
    " \n",
    "    def to_ics(self):\n",
    "        c = Calendar()\n",
    "        for shift in self.shifts:\n",
    "            e = Event()\n",
    "            e.name = shift.properties.name\n",
    "            e.begin = shift.beginning\n",
    "            e.duration = shift.properties.duration\n",
    "            c.events.add(e)\n",
    "        return c\n"
   ]
  },
  {
   "cell_type": "code",
   "execution_count": null,
   "metadata": {},
   "outputs": [],
   "source": [
    "from pathlib import Path\n",
    "\n",
    "_abbr2shiftproperties = {\n",
    "    \"F1\": ShiftProperties(\n",
    "        name=\"Früh1\", starting_hour=timedelta(hours=8), duration=timedelta(hours=8)\n",
    "    ),\n",
    "    \"N1\": ShiftProperties(\n",
    "        name=\"Nacht1\", starting_hour=timedelta(hours=22), duration=timedelta(hours=10)\n",
    "    ),\n",
    "}\n",
    "r = Roster.from_dict(\n",
    "    {\n",
    "        \"Mo 01\": \"F1\",\n",
    "        \"Di 02\": \"N1\",\n",
    "    },\n",
    "    mapper=_abbr2shiftproperties,\n",
    ")\n",
    "c = r.to_ics()\n",
    "print(c.events)\n",
    "\n",
    "with (Path.cwd() / \"data\" / \"output\" / \"example.ics\").open(\"w\") as f:\n",
    "    f.write(str(r.to_ics()))"
   ]
  },
  {
   "cell_type": "code",
   "execution_count": null,
   "metadata": {},
   "outputs": [],
   "source": []
  }
 ],
 "metadata": {
  "kernelspec": {
   "display_name": "Python 3",
   "language": "python",
   "name": "python3"
  }
 },
 "nbformat": 4,
 "nbformat_minor": 2
}
