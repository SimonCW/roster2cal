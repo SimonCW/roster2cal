{
 "cells": [
  {
   "cell_type": "code",
   "execution_count": null,
   "metadata": {},
   "outputs": [],
   "source": [
    "# default_exp core"
   ]
  },
  {
   "cell_type": "markdown",
   "metadata": {},
   "source": [
    "# Load Roster Table\n",
    "\n",
    "> Module to load the roster table."
   ]
  },
  {
   "cell_type": "code",
   "execution_count": null,
   "metadata": {},
   "outputs": [],
   "source": [
    "# hide\n",
    "from nbdev.showdoc import *"
   ]
  },
  {
   "cell_type": "code",
   "execution_count": null,
   "metadata": {},
   "outputs": [],
   "source": [
    "import pandas as pd\n",
    "from pathlib import Path\n",
    "import re\n"
   ]
  },
  {
   "cell_type": "code",
   "execution_count": null,
   "metadata": {},
   "outputs": [],
   "source": [
    "data_path = Path.cwd() / \"data\"\n",
    "# roster_path = data_path / \"202201_ZIB_Jan_anon.xlsx\"\n",
    "roster_path = data_path / \"private\" / \"202201_ZIB_Jan.xlsx\"\n"
   ]
  },
  {
   "cell_type": "code",
   "execution_count": null,
   "metadata": {},
   "outputs": [],
   "source": [
    "day_pattern = re.compile(r\"MO|DI|MI|DO|FR|SA|SO\")\n",
    "date_pattern = re.compile(r\"\\d{2}\")\n",
    "\n",
    "\n",
    "def daycol(col):\n",
    "    return day_pattern.search(col)\n"
   ]
  },
  {
   "cell_type": "code",
   "execution_count": null,
   "metadata": {},
   "outputs": [],
   "source": [
    "# TODO: Should use daycols for variable length months\n",
    "df = pd.read_excel(roster_path, skiprows=0, header=1, index_col=0)\n",
    "roster = (\n",
    "    df.dropna().rename_axis(\"Name\").loc[:, [col for col in df.columns if daycol(col)]]\n",
    ")\n",
    "roster"
   ]
  },
  {
   "cell_type": "code",
   "execution_count": null,
   "metadata": {},
   "outputs": [],
   "source": [
    "from dataclasses import dataclass, field\n",
    "from datetime import datetime, timedelta\n",
    "from typing import Any\n",
    "from ics import Calendar, Event\n",
    "\n",
    "\n",
    "@dataclass\n",
    "class ShiftProperties:\n",
    "    name: str\n",
    "    starting_hour: timedelta\n",
    "    duration: timedelta\n",
    "\n",
    "\n",
    "@dataclass\n",
    "class Shift:\n",
    "    properties: ShiftProperties\n",
    "    date: datetime\n",
    "\n",
    "    def __post_init__(self):\n",
    "        self.beginning: datetime = self.date + self.properties.starting_hour\n",
    "\n",
    "\n",
    "sp = ShiftProperties(\n",
    "    name=\"Früh0\", starting_hour=timedelta(hours=7), duration=timedelta(hours=8)\n",
    ")\n",
    "s = Shift(properties=sp, date=datetime(2022, 1, 1, 7, 0))\n"
   ]
  },
  {
   "cell_type": "code",
   "execution_count": null,
   "metadata": {},
   "outputs": [],
   "source": [
    "_abbr2shiftproperties: Any = {\n",
    "    \"(/)\": None,\n",
    "    \"2M\": None,\n",
    "    \"3g\": None,\n",
    "    \"F0\": ShiftProperties(\n",
    "        name=\"Früh0\", starting_hour=timedelta(hours=8), duration=timedelta(hours=10)\n",
    "    ),\n",
    "    \"F1\": ShiftProperties(\n",
    "        name=\"Früh1\", starting_hour=timedelta(hours=8), duration=timedelta(hours=8)\n",
    "    ),\n",
    "    \"F2\": ShiftProperties(\n",
    "        name=\"Früh2\", starting_hour=timedelta(hours=8), duration=timedelta(hours=12)\n",
    "    ),\n",
    "    \"FB\": ShiftProperties(\n",
    "        name=\"Fortbildung\",\n",
    "        starting_hour=timedelta(hours=8),\n",
    "        duration=timedelta(hours=8),\n",
    "    ),\n",
    "    \"N1\": ShiftProperties(\n",
    "        name=\"Nacht1\", starting_hour=timedelta(hours=22), duration=timedelta(hours=10)\n",
    "    ),\n",
    "    \"N2\": ShiftProperties(\n",
    "        name=\"Nacht2\", starting_hour=timedelta(hours=20), duration=timedelta(hours=12)\n",
    "    ),\n",
    "    \"S1\": ShiftProperties(\n",
    "        name=\"Spät1\", starting_hour=timedelta(hours=15), duration=timedelta(hours=8)\n",
    "    ),\n",
    "    \"U\": ShiftProperties(\n",
    "        name=\"Urlaub\", starting_hour=timedelta(hours=8), duration=timedelta(hours=8)\n",
    "    ),\n",
    "    \"ZA\": ShiftProperties(\n",
    "        name=\"Zeitausgleich\",\n",
    "        starting_hour=timedelta(hours=8),\n",
    "        duration=timedelta(hours=8),\n",
    "    ),\n",
    "}\n"
   ]
  },
  {
   "cell_type": "code",
   "execution_count": null,
   "metadata": {},
   "outputs": [],
   "source": [
    "@dataclass\n",
    "class Roster:\n",
    "    shifts: list[Shift]\n",
    "    name: str = \"Jane Doe\"\n",
    "    _year: int = 2022\n",
    "    _month: int = 1  # TODO: Read from Excel\n",
    "    _dayp = re.compile(r\"MO|DI|MI|DO|FR|SA|SO\")\n",
    "    _datep = re.compile(r\"\\d{2}\")\n",
    "\n",
    "    @classmethod\n",
    "    def from_dict(cls, input: dict[str, str]) -> \"Roster\":\n",
    "        shifts = []\n",
    "        for date_str, abbr in input.items():\n",
    "            props = _abbr2shiftproperties[abbr]\n",
    "            if props is None:\n",
    "                continue\n",
    "            date = datetime(\n",
    "                year=cls._year,\n",
    "                month=cls._month,\n",
    "                day=int(cls._datep.search(date_str).group()),\n",
    "            )\n",
    "            shift = Shift(props, date=date)\n",
    "            shifts.append(shift)\n",
    "        return cls(shifts=shifts)\n",
    "\n",
    "    def to_ics(self):\n",
    "        c = Calendar()\n",
    "        for shift in self.shifts:\n",
    "            e = Event()\n",
    "            e.name = shift.properties.name\n",
    "            e.begin = shift.beginning\n",
    "            e.duration = shift.properties.duration\n",
    "            c.events.add(e)\n",
    "        return c\n"
   ]
  },
  {
   "cell_type": "code",
   "execution_count": null,
   "metadata": {},
   "outputs": [],
   "source": [
    "for name in roster.index:\n",
    "    r = Roster.from_dict(roster.loc[name].to_dict())\n",
    "    filename = f\"{name.replace(',', '_').replace(' ', '')}.ics\"\n",
    "    with (data_path / \"output\" / filename).open('w') as f:\n",
    "        f.write(str(r.to_ics()))\n",
    "    "
   ]
  },
  {
   "cell_type": "code",
   "execution_count": null,
   "metadata": {},
   "outputs": [],
   "source": [
    " "
   ]
  },
  {
   "cell_type": "code",
   "execution_count": null,
   "metadata": {},
   "outputs": [],
   "source": []
  }
 ],
 "metadata": {
  "kernelspec": {
   "display_name": "Python 3",
   "language": "python",
   "name": "python3"
  },
  "language_info": {
   "codemirror_mode": {
    "name": "ipython",
    "version": 3
   },
   "file_extension": ".py",
   "mimetype": "text/x-python",
   "name": "python",
   "nbconvert_exporter": "python",
   "pygments_lexer": "ipython3",
   "version": "3.9.1"
  }
 },
 "nbformat": 4,
 "nbformat_minor": 2
}
